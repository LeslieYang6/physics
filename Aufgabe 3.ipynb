{
 "cells": [
  {
   "cell_type": "code",
   "execution_count": null,
   "id": "initial_id",
   "metadata": {
    "collapsed": true
   },
   "outputs": [],
   "source": [
    "import numpy as np\n",
    "import matplotlib.pyplot as plt\n",
    "\n",
    "img = plt.imread(\"test.tiff\")\n",
    "npimg = np.array(img, dtype=float)\n",
    "\n",
    "\n",
    "red = []\n",
    "green = []\n",
    "blue = []\n",
    "for zeile in range(len(npimg)):\n",
    "    for spalten in range(len(npimg[zeile])):\n",
    "        red.append(npimg[zeile][spalten][0])\n",
    "        green.append(npimg[zeile][spalten][1])\n",
    "        blue.append(npimg[zeile][spalten][2])\n",
    "\n",
    "fix, ax = plt.subplots(nrows=1, ncols=1)\n",
    "ax.grid(which='both', color=\"0.65\", linestyle='--')\n",
    "h = ax.hist(red, bins=256, range=(-0.5, 255), histtype=\"step\", color=\"r\")\n",
    "h = ax.hist(green, bins=256, range=(-0.5, 255), histtype=\"step\", color=\"g\")\n",
    "h = ax.hist(blue, bins=256, range=(-0.5, 255), histtype=\"step\", color=\"b\")"
   ]
  }
 ],
 "metadata": {
  "kernelspec": {
   "display_name": "Python 3",
   "language": "python",
   "name": "python3"
  },
  "language_info": {
   "codemirror_mode": {
    "name": "ipython",
    "version": 2
   },
   "file_extension": ".py",
   "mimetype": "text/x-python",
   "name": "python",
   "nbconvert_exporter": "python",
   "pygments_lexer": "ipython2",
   "version": "2.7.6"
  }
 },
 "nbformat": 4,
 "nbformat_minor": 5
}
