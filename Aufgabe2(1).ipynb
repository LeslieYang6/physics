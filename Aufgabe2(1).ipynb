{
 "cells": [
  {
   "cell_type": "code",
   "id": "initial_id",
   "metadata": {
    "collapsed": true,
    "ExecuteTime": {
     "end_time": "2024-04-24T14:56:55.905792Z",
     "start_time": "2024-04-24T14:56:55.901612Z"
    }
   },
   "source": [
    "#! /usr/bin/env python3\n",
    "# -*- coding: utf-8 -*-\n",
    "\n",
    "### Vorlagendatei für die Übungen zur Datenverarbeitung ###\n",
    "\n",
    "# Bitte ergänzen Sie hier die Daten der Abgebenden. Ersetzen Sie nur\n",
    "# die Punkte ('...'), aber lassen Sie den Rest der Zeilen und ihre Reihenfolge\n",
    "# ansonsten unverändert, da Ihre Abgabe sonst nicht elektronisch verarbeitet\n",
    "# werden kann.\n",
    "#\n",
    "# 1)\n",
    "# Matrikelnummer: 461634\n",
    "# Name: Christina Lei\n",
    "# Email: christina.lei@rwth-aachen.de\n",
    "#\n",
    "# 2)\n",
    "# Matrikelnummer: 454171\n",
    "# Name: Zoe Leona Martens\n",
    "# Email: zoe.martens@rwth-aachen.de"
   ],
   "outputs": [],
   "execution_count": 39
  },
  {
   "metadata": {
    "ExecuteTime": {
     "end_time": "2024-04-24T14:56:55.925528Z",
     "start_time": "2024-04-24T14:56:55.922597Z"
    }
   },
   "cell_type": "code",
   "source": "### Aufgabe 2 Python arrays",
   "id": "40858f442e06a0dc",
   "outputs": [],
   "execution_count": 40
  },
  {
   "metadata": {
    "ExecuteTime": {
     "end_time": "2024-04-24T14:56:55.953149Z",
     "start_time": "2024-04-24T14:56:55.948901Z"
    }
   },
   "cell_type": "code",
   "source": [
    "#1\n",
    "import numpy as np\n",
    "\n",
    "a= np.arange(10)\n",
    "print(a)"
   ],
   "id": "f3b4f3b83e184889",
   "outputs": [
    {
     "name": "stdout",
     "output_type": "stream",
     "text": [
      "[0 1 2 3 4 5 6 7 8 9]\n"
     ]
    }
   ],
   "execution_count": 41
  },
  {
   "metadata": {
    "ExecuteTime": {
     "end_time": "2024-04-24T14:56:55.962539Z",
     "start_time": "2024-04-24T14:56:55.957512Z"
    }
   },
   "cell_type": "code",
   "source": [
    "#2 ersten 5 Elemente\n",
    "a[:5]"
   ],
   "id": "2b6268f7a8873451",
   "outputs": [
    {
     "data": {
      "text/plain": [
       "array([0, 1, 2, 3, 4])"
      ]
     },
     "execution_count": 42,
     "metadata": {},
     "output_type": "execute_result"
    }
   ],
   "execution_count": 42
  },
  {
   "metadata": {
    "ExecuteTime": {
     "end_time": "2024-04-24T14:56:55.974696Z",
     "start_time": "2024-04-24T14:56:55.968444Z"
    }
   },
   "cell_type": "code",
   "source": [
    "#3 jedes zweites Element \n",
    "a[::2]"
   ],
   "id": "dedaadd2f6cc1f61",
   "outputs": [
    {
     "data": {
      "text/plain": [
       "array([0, 2, 4, 6, 8])"
      ]
     },
     "execution_count": 43,
     "metadata": {},
     "output_type": "execute_result"
    }
   ],
   "execution_count": 43
  },
  {
   "metadata": {
    "ExecuteTime": {
     "end_time": "2024-04-24T14:56:55.982643Z",
     "start_time": "2024-04-24T14:56:55.977321Z"
    }
   },
   "cell_type": "code",
   "source": [
    "#4 letztes Element \n",
    "a[-1]"
   ],
   "id": "2be41b500069e2aa",
   "outputs": [
    {
     "data": {
      "text/plain": [
       "9"
      ]
     },
     "execution_count": 44,
     "metadata": {},
     "output_type": "execute_result"
    }
   ],
   "execution_count": 44
  },
  {
   "metadata": {
    "ExecuteTime": {
     "end_time": "2024-04-24T14:56:56.002112Z",
     "start_time": "2024-04-24T14:56:55.996445Z"
    }
   },
   "cell_type": "code",
   "source": [
    "#5 letzten 5 Elemente \n",
    "a[-5:]"
   ],
   "id": "22d91b522d260553",
   "outputs": [
    {
     "data": {
      "text/plain": [
       "array([5, 6, 7, 8, 9])"
      ]
     },
     "execution_count": 45,
     "metadata": {},
     "output_type": "execute_result"
    }
   ],
   "execution_count": 45
  },
  {
   "metadata": {
    "ExecuteTime": {
     "end_time": "2024-04-24T14:56:56.027648Z",
     "start_time": "2024-04-24T14:56:56.022599Z"
    }
   },
   "cell_type": "code",
   "source": [
    "#6 alles außer letzten beiden Elemente\n",
    "a[:-2]"
   ],
   "id": "d7bb820846b4717f",
   "outputs": [
    {
     "data": {
      "text/plain": [
       "array([0, 1, 2, 3, 4, 5, 6, 7])"
      ]
     },
     "execution_count": 46,
     "metadata": {},
     "output_type": "execute_result"
    }
   ],
   "execution_count": 46
  },
  {
   "metadata": {
    "ExecuteTime": {
     "end_time": "2024-04-24T15:45:40.267338Z",
     "start_time": "2024-04-24T15:45:40.259130Z"
    }
   },
   "cell_type": "code",
   "source": [
    "#7 alle Elemente in umgekehrter Reihenfolge 1\n",
    "res=a[::-1]\n",
    "print (res)\n",
    "#wo ist die 0?"
   ],
   "id": "301f8d6ddfd9f1e3",
   "outputs": [
    {
     "name": "stdout",
     "output_type": "stream",
     "text": [
      "[9, 8, 7, 6, 5, 4, 3, 2, 1]\n"
     ]
    }
   ],
   "execution_count": 88
  },
  {
   "metadata": {
    "ExecuteTime": {
     "end_time": "2024-04-24T15:15:20.830041Z",
     "start_time": "2024-04-24T15:15:20.816866Z"
    }
   },
   "cell_type": "code",
   "source": [
    "#7 alle Elemente in umgekehrter Reihenfolge 3\n",
    "print(a)\n",
    "a[::-1]"
   ],
   "id": "58264e69457bc443",
   "outputs": [
    {
     "name": "stdout",
     "output_type": "stream",
     "text": [
      "[1, 2, 3, 4, 5, 6, 7, 8, 9]\n"
     ]
    },
    {
     "data": {
      "text/plain": [
       "[9, 8, 7, 6, 5, 4, 3, 2, 1]"
      ]
     },
     "execution_count": 68,
     "metadata": {},
     "output_type": "execute_result"
    }
   ],
   "execution_count": 68
  },
  {
   "metadata": {
    "ExecuteTime": {
     "end_time": "2024-04-24T15:49:36.841100Z",
     "start_time": "2024-04-24T15:49:36.826948Z"
    }
   },
   "cell_type": "code",
   "source": [
    "#8 Ersten drei Elemente in umgekehrter Reihenfolge\n",
    "print(a)\n",
    "u=a[:3]\n",
    "print (u)\n",
    "u[::-1]"
   ],
   "id": "d946a2a520659a7a",
   "outputs": [
    {
     "name": "stdout",
     "output_type": "stream",
     "text": [
      "[1, 2, 3, 4, 5, 6, 7, 8, 9]\n",
      "[1, 2, 3]\n"
     ]
    },
    {
     "data": {
      "text/plain": [
       "[3, 2, 1]"
      ]
     },
     "execution_count": 90,
     "metadata": {},
     "output_type": "execute_result"
    }
   ],
   "execution_count": 90
  },
  {
   "metadata": {
    "ExecuteTime": {
     "end_time": "2024-04-24T15:17:34.004778Z",
     "start_time": "2024-04-24T15:17:33.995800Z"
    }
   },
   "cell_type": "code",
   "source": [
    "#9 letzten drei Elemente in umgekehrter Reihenfolge \n",
    "print (a)\n",
    "k=a[-3:]\n",
    "print (k)\n",
    "k[::-1]"
   ],
   "id": "fcab07465f32c25c",
   "outputs": [
    {
     "name": "stdout",
     "output_type": "stream",
     "text": [
      "[1, 2, 3, 4, 5, 6, 7, 8, 9]\n",
      "[7, 8, 9]\n"
     ]
    },
    {
     "data": {
      "text/plain": [
       "[9, 8, 7]"
      ]
     },
     "execution_count": 78,
     "metadata": {},
     "output_type": "execute_result"
    }
   ],
   "execution_count": 78
  },
  {
   "metadata": {
    "ExecuteTime": {
     "end_time": "2024-04-24T15:50:19.896887Z",
     "start_time": "2024-04-24T15:50:19.881604Z"
    }
   },
   "cell_type": "code",
   "source": [
    "#10 Alles außer letzten beiden Elemente in umgekehrter Reihenfolge\n",
    "import numpy as np\n",
    "l=a[:7]\n",
    "l.reverse()\n",
    "h=a[-2:]\n",
    "np.concatenate((l,h))\n",
    "\n",
    "#https://statologie.de/arrays-verketten-python/"
   ],
   "id": "4c8ed40fd4d233cb",
   "outputs": [
    {
     "data": {
      "text/plain": [
       "array([7, 6, 5, 4, 3, 2, 1, 8, 9])"
      ]
     },
     "execution_count": 91,
     "metadata": {},
     "output_type": "execute_result"
    }
   ],
   "execution_count": 91
  },
  {
   "metadata": {
    "ExecuteTime": {
     "end_time": "2024-04-24T15:25:04.090194Z",
     "start_time": "2024-04-24T15:25:04.068680Z"
    }
   },
   "cell_type": "code",
   "source": [
    "#10 Alles außer letzten beiden Elemente in umgekehrter Reihenfolge\n",
    "print (a)\n",
    "p=a[:7]\n",
    "print (p)\n",
    "k=p[::-1]\n",
    "print (k)\n",
    "print (k+a[-2:])"
   ],
   "id": "cd9282371d5ab06",
   "outputs": [
    {
     "name": "stdout",
     "output_type": "stream",
     "text": [
      "[1, 2, 3, 4, 5, 6, 7, 8, 9]\n",
      "[1, 2, 3, 4, 5, 6, 7]\n",
      "[7, 6, 5, 4, 3, 2, 1]\n",
      "[7, 6, 5, 4, 3, 2, 1, 8, 9]\n"
     ]
    }
   ],
   "execution_count": 85
  },
  {
   "metadata": {},
   "cell_type": "code",
   "outputs": [],
   "execution_count": null,
   "source": "",
   "id": "3e6e25357bd37a81"
  }
 ],
 "metadata": {
  "kernelspec": {
   "display_name": "Python 3",
   "language": "python",
   "name": "python3"
  },
  "language_info": {
   "codemirror_mode": {
    "name": "ipython",
    "version": 2
   },
   "file_extension": ".py",
   "mimetype": "text/x-python",
   "name": "python",
   "nbconvert_exporter": "python",
   "pygments_lexer": "ipython2",
   "version": "2.7.6"
  }
 },
 "nbformat": 4,
 "nbformat_minor": 5
}
