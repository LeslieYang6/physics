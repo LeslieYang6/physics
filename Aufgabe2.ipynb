{
 "cells": [
  {
   "cell_type": "code",
   "id": "initial_id",
   "metadata": {
    "collapsed": true,
    "ExecuteTime": {
     "end_time": "2024-04-23T06:25:25.589515Z",
     "start_time": "2024-04-23T06:25:25.586534Z"
    }
   },
   "source": [
    "#! /usr/bin/env python3\n",
    "# -*- coding: utf-8 -*-\n",
    "\n",
    "### Vorlagendatei für die Übungen zur Datenverarbeitung ###\n",
    "\n",
    "# Bitte ergänzen Sie hier die Daten der Abgebenden. Ersetzen Sie nur\n",
    "# die Punkte ('...'), aber lassen Sie den Rest der Zeilen und ihre Reihenfolge\n",
    "# ansonsten unverändert, da Ihre Abgabe sonst nicht elektronisch verarbeitet\n",
    "# werden kann.\n",
    "#\n",
    "# 1)\n",
    "# Matrikelnummer: 461634\n",
    "# Name: Christina Lei\n",
    "# Email: christina.lei@rwth-aachen.de\n",
    "#\n",
    "# 2)\n",
    "# Matrikelnummer: 454171\n",
    "# Name: Zoe Leona Martens\n",
    "# Email: zoe.martens@rwth-aachen.de"
   ],
   "outputs": [],
   "execution_count": 2
  },
  {
   "metadata": {},
   "cell_type": "code",
   "outputs": [],
   "execution_count": null,
   "source": "### Aufgabe 2 Python arrays",
   "id": "40858f442e06a0dc"
  },
  {
   "metadata": {
    "ExecuteTime": {
     "end_time": "2024-04-23T06:25:25.600864Z",
     "start_time": "2024-04-23T06:25:25.596539Z"
    }
   },
   "cell_type": "code",
   "source": [
    "#1\n",
    "a=[0,1,2,3,4,5,6,7,8,9]"
   ],
   "id": "f3b4f3b83e184889",
   "outputs": [],
   "execution_count": 3
  },
  {
   "metadata": {
    "ExecuteTime": {
     "end_time": "2024-04-23T06:25:25.617748Z",
     "start_time": "2024-04-23T06:25:25.609532Z"
    }
   },
   "cell_type": "code",
   "source": [
    "#2 ersten 5 Elemente\n",
    "a[:5]"
   ],
   "id": "2b6268f7a8873451",
   "outputs": [
    {
     "data": {
      "text/plain": [
       "[0, 1, 2, 3, 4]"
      ]
     },
     "execution_count": 4,
     "metadata": {},
     "output_type": "execute_result"
    }
   ],
   "execution_count": 4
  },
  {
   "metadata": {
    "ExecuteTime": {
     "end_time": "2024-04-23T06:25:25.653772Z",
     "start_time": "2024-04-23T06:25:25.649293Z"
    }
   },
   "cell_type": "code",
   "source": [
    "#3 jedes zweites Element \n",
    "a[::2]"
   ],
   "id": "dedaadd2f6cc1f61",
   "outputs": [
    {
     "data": {
      "text/plain": [
       "[0, 2, 4, 6, 8]"
      ]
     },
     "execution_count": 5,
     "metadata": {},
     "output_type": "execute_result"
    }
   ],
   "execution_count": 5
  },
  {
   "metadata": {
    "ExecuteTime": {
     "end_time": "2024-04-23T06:25:25.685879Z",
     "start_time": "2024-04-23T06:25:25.680048Z"
    }
   },
   "cell_type": "code",
   "source": [
    "#4 letztes Element \n",
    "a[-1]"
   ],
   "id": "2be41b500069e2aa",
   "outputs": [
    {
     "data": {
      "text/plain": [
       "9"
      ]
     },
     "execution_count": 6,
     "metadata": {},
     "output_type": "execute_result"
    }
   ],
   "execution_count": 6
  },
  {
   "metadata": {
    "ExecuteTime": {
     "end_time": "2024-04-23T06:25:25.743002Z",
     "start_time": "2024-04-23T06:25:25.737804Z"
    }
   },
   "cell_type": "code",
   "source": [
    "#5 letzten 5 Elemente \n",
    "a[-5:]"
   ],
   "id": "22d91b522d260553",
   "outputs": [
    {
     "data": {
      "text/plain": [
       "[5, 6, 7, 8, 9]"
      ]
     },
     "execution_count": 7,
     "metadata": {},
     "output_type": "execute_result"
    }
   ],
   "execution_count": 7
  },
  {
   "metadata": {
    "ExecuteTime": {
     "end_time": "2024-04-23T06:25:25.780863Z",
     "start_time": "2024-04-23T06:25:25.776223Z"
    }
   },
   "cell_type": "code",
   "source": [
    "#6 alles außer letzten beiden Elemente\n",
    "a[:-2]"
   ],
   "id": "d7bb820846b4717f",
   "outputs": [
    {
     "data": {
      "text/plain": [
       "[0, 1, 2, 3, 4, 5, 6, 7]"
      ]
     },
     "execution_count": 8,
     "metadata": {},
     "output_type": "execute_result"
    }
   ],
   "execution_count": 8
  },
  {
   "metadata": {
    "ExecuteTime": {
     "end_time": "2024-04-23T06:25:25.812753Z",
     "start_time": "2024-04-23T06:25:25.808996Z"
    }
   },
   "cell_type": "code",
   "source": [
    "#7 alle Elemente in umgekehrter Reihenfolge 1\n",
    "res=a[::-1]\n",
    "print (res)"
   ],
   "id": "301f8d6ddfd9f1e3",
   "outputs": [
    {
     "name": "stdout",
     "output_type": "stream",
     "text": [
      "[9, 8, 7, 6, 5, 4, 3, 2, 1, 0]\n"
     ]
    }
   ],
   "execution_count": 9
  },
  {
   "metadata": {
    "ExecuteTime": {
     "end_time": "2024-04-23T06:25:25.826179Z",
     "start_time": "2024-04-23T06:25:25.821575Z"
    }
   },
   "cell_type": "code",
   "source": [
    "#7 alle Elemente in umgekehrter Reihenfolge 2\n",
    "a.reverse()\n",
    "print (a)"
   ],
   "id": "148cd6d75e697da8",
   "outputs": [
    {
     "name": "stdout",
     "output_type": "stream",
     "text": [
      "[9, 8, 7, 6, 5, 4, 3, 2, 1, 0]\n"
     ]
    }
   ],
   "execution_count": 10
  },
  {
   "metadata": {
    "ExecuteTime": {
     "end_time": "2024-04-23T06:25:25.839647Z",
     "start_time": "2024-04-23T06:25:25.834880Z"
    }
   },
   "cell_type": "code",
   "source": [
    "#7 alle Elemente in umgekehrter Reihenfolge 3\n",
    "a[::1]"
   ],
   "id": "58264e69457bc443",
   "outputs": [
    {
     "data": {
      "text/plain": [
       "[9, 8, 7, 6, 5, 4, 3, 2, 1, 0]"
      ]
     },
     "execution_count": 11,
     "metadata": {},
     "output_type": "execute_result"
    }
   ],
   "execution_count": 11
  },
  {
   "metadata": {
    "ExecuteTime": {
     "end_time": "2024-04-23T06:35:04.066907Z",
     "start_time": "2024-04-23T06:35:04.062195Z"
    }
   },
   "cell_type": "code",
   "source": [
    "#8 ersten drei Elemente in umgekehrter Reihenfolge\n",
    "i=a[:3]\n",
    "i.reverse ()\n",
    "print (i)"
   ],
   "id": "b7d2f76b37a7745",
   "outputs": [
    {
     "name": "stdout",
     "output_type": "stream",
     "text": [
      "[7, 8, 9]\n"
     ]
    }
   ],
   "execution_count": 24
  },
  {
   "metadata": {
    "ExecuteTime": {
     "end_time": "2024-04-23T06:42:52.020296Z",
     "start_time": "2024-04-23T06:42:52.015961Z"
    }
   },
   "cell_type": "code",
   "source": [
    "#9 letzten drei Elemente in umgekehrter Reihenfolge aus\n",
    "#print (a)\n",
    "o=a[-3:]\n",
    "o.reverse()\n",
    "print (o)"
   ],
   "id": "fcab07465f32c25c",
   "outputs": [
    {
     "name": "stdout",
     "output_type": "stream",
     "text": [
      "[2, 1, 0]\n",
      "[0, 1, 2]\n"
     ]
    }
   ],
   "execution_count": 37
  },
  {
   "metadata": {
    "ExecuteTime": {
     "end_time": "2024-04-23T06:53:22.394442Z",
     "start_time": "2024-04-23T06:53:22.385294Z"
    }
   },
   "cell_type": "code",
   "source": [
    "#10 Alles außer letzten beiden Elemente in umgekehrter Reihenfolge\n",
    "import numpy as np\n",
    "l=a[:8]\n",
    "l.reverse()\n",
    "h=a[-2:]\n",
    "np.concatenate((l,h))\n",
    "\n",
    "#https://statologie.de/arrays-verketten-python/"
   ],
   "id": "4c8ed40fd4d233cb",
   "outputs": [
    {
     "data": {
      "text/plain": [
       "array([2, 3, 4, 5, 6, 7, 8, 9, 1, 0])"
      ]
     },
     "execution_count": 47,
     "metadata": {},
     "output_type": "execute_result"
    }
   ],
   "execution_count": 47
  },
  {
   "metadata": {},
   "cell_type": "code",
   "outputs": [],
   "execution_count": null,
   "source": "",
   "id": "cd9282371d5ab06"
  }
 ],
 "metadata": {
  "kernelspec": {
   "display_name": "Python 3",
   "language": "python",
   "name": "python3"
  },
  "language_info": {
   "codemirror_mode": {
    "name": "ipython",
    "version": 2
   },
   "file_extension": ".py",
   "mimetype": "text/x-python",
   "name": "python",
   "nbconvert_exporter": "python",
   "pygments_lexer": "ipython2",
   "version": "2.7.6"
  }
 },
 "nbformat": 4,
 "nbformat_minor": 5
}
